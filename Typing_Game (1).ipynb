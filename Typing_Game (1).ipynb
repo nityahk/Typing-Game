{
 "cells": [
  {
   "cell_type": "code",
   "execution_count": 3,
   "metadata": {
    "colab": {
     "base_uri": "https://localhost:8080/"
    },
    "id": "hQE_xAo03wdd",
    "outputId": "16427c99-aeb4-4d46-f84c-431296002236"
   },
   "outputs": [
    {
     "name": "stdout",
     "output_type": "stream",
     "text": [
      "/bin/bash: apt: command not found\n",
      "Defaulting to user installation because normal site-packages is not writeable\n",
      "Requirement already satisfied: pyenchant in ./.local/lib/python3.8/site-packages (3.2.2)\n",
      "Defaulting to user installation because normal site-packages is not writeable\n",
      "Requirement already satisfied: beautifulsoup4 in ./.local/lib/python3.8/site-packages (4.10.0)\n",
      "Requirement already satisfied: soupsieve>1.2 in ./.local/lib/python3.8/site-packages (from beautifulsoup4) (2.2.1)\n"
     ]
    }
   ],
   "source": [
    "\n",
    "!apt install -qq enchant\n",
    "!pip install pyenchant\n",
    "!pip install beautifulsoup4\n",
    "\n",
    "import re\n",
    "import urllib\n",
    "import urllib.request\n",
    "from bs4 import BeautifulSoup\n",
    "import enchant\n",
    "\n",
    "\n"
   ]
  },
  {
   "cell_type": "code",
   "execution_count": 5,
   "metadata": {
    "colab": {
     "base_uri": "https://localhost:8080/"
    },
    "id": "7Snuu7wdum4O",
    "outputId": "8e47023a-1de7-4dcc-b62a-851abebce57e"
   },
   "outputs": [
    {
     "name": "stdin",
     "output_type": "stream",
     "text": [
      "ENTER A URL: https://en.wikipedia.org/wiki/Elvis_Presley\n"
     ]
    }
   ],
   "source": [
    "url = input ('ENTER A URL:')\n",
    "\n",
    "htmlfile = urllib.request.urlopen(url)\n",
    "soup = BeautifulSoup(htmlfile, 'lxml')\n",
    "text = soup.get_text()\n",
    "tokens = re.findall(\"\\s*(\\w*)\\s*\", text, re.UNICODE) \n",
    "\n",
    "\n",
    "\n",
    "# while(\"\" in tokens) :\n",
    "#     tokens.remove(\"\") \n",
    "\n",
    "tokens = ' '.join(tokens).split()\n",
    "\n",
    "d = enchant.Dict(\"en_US\")\n",
    "tokens = [tok for tok in tokens if d.check(tok)]\n",
    "tokens = set(tokens)\n",
    "no_nums = set()\n",
    "for tok in tokens:\n",
    "  if (not tok.isnumeric()):\n",
    "    no_nums.add(tok)\n",
    "\n",
    "\n",
    "# newlist = []\n",
    "# for tok in tokens: \n",
    "#   if (tok not in newlist): \n",
    "#       newlist.append(i)\n",
    "\n",
    "# print(newlist)\n"
   ]
  },
  {
   "cell_type": "code",
   "execution_count": 6,
   "metadata": {
    "colab": {
     "base_uri": "https://localhost:8080/"
    },
    "id": "xNLICfvtIzTG",
    "outputId": "dda95239-dc2c-4e98-967c-672ecc56b176"
   },
   "outputs": [],
   "source": [
    "#create .txt file and assign difficulty to words\n",
    "with open('words.txt', 'w') as writefile:\n",
    "    for tok in no_nums:\n",
    "        if(len(tok) < 7):\n",
    "            difficulty = 'Easy'\n",
    "        elif(len(tok) > 7 and len(tok) < 12):\n",
    "            difficulty = 'Medium'\n",
    "        else:\n",
    "            difficulty = 'Hard'\n",
    "        writefile.write(tok + '\\t'+ str(difficulty) + \"\\n\")\n",
    "        \n",
    "writefile.close()"
   ]
  },
  {
   "cell_type": "markdown",
   "metadata": {},
   "source": [
    "##Code Logic"
   ]
  },
  {
   "cell_type": "code",
   "execution_count": 7,
   "metadata": {},
   "outputs": [],
   "source": [
    "import threading\n",
    "from time import sleep\n",
    "import random"
   ]
  },
  {
   "cell_type": "code",
   "execution_count": null,
   "metadata": {},
   "outputs": [],
   "source": [
    "easy = list()\n",
    "medium = list()\n",
    "difficult = list()\n",
    "\n",
    "#opens the file and reads in the content from them\n",
    "\n",
    "file1 = open(\"words.txt\", \"r\")\n",
    "for line in file1.readlines():\n",
    "    #print(line.split(\"\\t\")[1])\n",
    "    if(line.split(\"\\t\")[1].strip() == \"Easy\"):\n",
    "        easy.append(line.split(\"\\t\")[0])\n",
    "    if(line.split(\"\\t\")[1].strip() == \"Medium\"):\n",
    "        medium.append(line.split(\"\\t\")[0])\n",
    "    if(line.split(\"\\t\")[1].strip() == \"Hard\"):\n",
    "        difficult.append(line.split(\"\\t\")[0])\n",
    "file1.close()\n",
    "\n",
    "\n",
    "\n",
    "time = True\n",
    "totalWords = 0\n",
    "\n",
    "\n",
    "def timerFunction():\n",
    "    print(\"\\nTimes up!!\")\n",
    "    print(\"\\nPress Enter to see your results!\")\n",
    "    global time\n",
    "    time = False\n",
    "\n",
    "#defines the timer objects that will execute the displayResults once something happens\n",
    "timer = threading.Timer(10.0, timerFunction)\n",
    "timer.start()\n",
    "\n",
    "#All game related info is below\n",
    "def runGame(choice):\n",
    "    #represents the list that will contain the elements for the current game\n",
    "    gameList = list()\n",
    "    if choice == 0:  # if the choice is 1, then will run the game on easy difficulty\n",
    "        gameList = easy\n",
    "    elif choice == 1:\n",
    "        gameList = medium\n",
    "    elif choice == 2:\n",
    "        gameList = difficult\n",
    "    else:\n",
    "        print(\"Error when selecting difficulty\")  # Debugging tool\n",
    "    isFirst = True\n",
    "    while(time):\n",
    "        randNum = random.randint(0,len(gameList)-1)\n",
    "        print(gameList[randNum], end = \" \")\n",
    "        if isFirst == True:\n",
    "            print(\"\\nPlease enter the word above and press Enter:\", end = \" \")\n",
    "            isFirst = False\n",
    "        word = input()\n",
    "        while word != gameList[randNum] and time:\n",
    "            word = input(\"Please enter the word \" + gameList[randNum] + \": \")\n",
    "        global totalWords\n",
    "        if(word == gameList[randNum] and time):\n",
    "            totalWords += 1\n",
    "\n",
    "\n",
    "runGame(0)\n",
    "\n",
    "def displayResults():\n",
    "    print(\"Your Words Per minute for this test is: \" + str(totalWords))\n",
    "    if(totalWords == 66):\n",
    "        print(\"Execute order 66!\")\n",
    "    elif(totalWords > 50):\n",
    "        print(\"You are an octopus!\")\n",
    "    elif(totalWords > 40):\n",
    "        print(\"Fast you are\")\n",
    "    elif(totalWords>30):\n",
    "        print(\"Not bad kid\")\n",
    "    elif(totalWords>20):\n",
    "        print(\"I guess your ok with being average\")\n",
    "    elif(totalWords>10):\n",
    "        print(\"Is that the best you can do?\")\n",
    "    else:\n",
    "        print(\"Bonehead!\")\n",
    "displayResults()\n",
    "\n",
    "\n",
    "exit()"
   ]
  },
  {
   "cell_type": "code",
   "execution_count": null,
   "metadata": {},
   "outputs": [],
   "source": []
  }
 ],
 "metadata": {
  "colab": {
   "name": "Typing Game.ipynb",
   "provenance": []
  },
  "kernelspec": {
   "display_name": "Python 3",
   "language": "python",
   "name": "python3"
  },
  "language_info": {
   "codemirror_mode": {
    "name": "ipython",
    "version": 3
   },
   "file_extension": ".py",
   "mimetype": "text/x-python",
   "name": "python",
   "nbconvert_exporter": "python",
   "pygments_lexer": "ipython3",
   "version": "3.8.5"
  }
 },
 "nbformat": 4,
 "nbformat_minor": 4
}
